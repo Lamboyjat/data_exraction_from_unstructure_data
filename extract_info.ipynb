{
 "cells": [
  {
   "cell_type": "code",
   "execution_count": null,
   "metadata": {},
   "outputs": [],
   "source": [
    "from pypdf import PdfReader"
   ]
  },
  {
   "cell_type": "code",
   "execution_count": 25,
   "metadata": {},
   "outputs": [
    {
     "name": "stdout",
     "output_type": "stream",
     "text": [
      "There are 1 Pages\n",
      "SP. HEAT CAPACITY INLET TEMP. OUTLET TEMP. FLOW RATE. LIQUID VOL.\n",
      "4190 J/kg/K 68 °C 89 °C 46 kg/s 400 dm3\n",
      "4190 J/kg/K 91 °C 74 °C 56 kg/s 400 dm3Heat-Exchanger Specification\n",
      "SUPPLIER REF. ITEM NO.\n",
      "CUSTOMER NAMEWEIGHT WITH WATER:\n",
      "4 HE-SWHE Company 1\n",
      "NOVIA RDI\n",
      "RISK FACTOR MODELMIN TEMPERATURE:MAX TEMPERATURE:DESIGN PRESSURE:\n",
      "0 °C 130 ° C20 bar\n",
      "5800 kg5000 kg0 °C 130 ° C20 bar\n",
      "NET WEIGHT:TEST PRESSURE:REMARKS\n",
      "25 barSIDE 1\n",
      "25 barSIDE 2\n",
      "SIDE380 m2\n",
      "4200 kW\n",
      "2354 W/m2/K\n",
      "ALL DIMENSIONS ARE IN MILLIMETERS\n",
      "MEDIAHEATING SURFACE\n",
      "COOLING CAPACITY\n",
      "HEAT TR. COEFF.\n",
      "Water\n",
      "Water\n",
      "Turku FINDATE, PLACE\n",
      "12\n",
      "\n"
     ]
    }
   ],
   "source": [
    "# Read the PDF file\n",
    "reader = PdfReader(\"he-specification.pdf\")\n",
    "\n",
    "# Print the number of pages in the PDF\n",
    "print(f\"There are {len(reader.pages)} Pages\")\n",
    "\n",
    "# Get the first page (index 0) \n",
    "page = reader.pages[0]\n",
    "\n",
    "# Use extract_text() to get the text of the page\n",
    "# print(page.extract_text())\n",
    "text = ''\n",
    "# Go through every page and get the text\n",
    "for i in range(len(reader.pages)):\n",
    "  page = reader.pages[i]\n",
    "  text += page.extract_text()\n",
    "  print(page.extract_text())\n"
   ]
  },
  {
   "cell_type": "code",
   "execution_count": 27,
   "metadata": {},
   "outputs": [
    {
     "data": {
      "text/plain": [
       "['SP. HEAT CAPACITY INLET TEMP. OUTLET TEMP. FLOW RATE. LIQUID VOL.',\n",
       " '4190 J/kg/K 68 °C 89 °C 46 kg/s 400 dm3',\n",
       " '4190 J/kg/K 91 °C 74 °C 56 kg/s 400 dm3Heat-Exchanger Specification',\n",
       " 'SUPPLIER REF. ITEM NO.',\n",
       " 'CUSTOMER NAMEWEIGHT WITH WATER:',\n",
       " '4 HE-SWHE Company 1',\n",
       " 'NOVIA RDI',\n",
       " 'RISK FACTOR MODELMIN TEMPERATURE:MAX TEMPERATURE:DESIGN PRESSURE:',\n",
       " '0 °C 130 ° C20 bar',\n",
       " '5800 kg5000 kg0 °C 130 ° C20 bar',\n",
       " 'NET WEIGHT:TEST PRESSURE:REMARKS',\n",
       " '25 barSIDE 1',\n",
       " '25 barSIDE 2',\n",
       " 'SIDE380 m2',\n",
       " '4200 kW',\n",
       " '2354 W/m2/K',\n",
       " 'ALL DIMENSIONS ARE IN MILLIMETERS',\n",
       " 'MEDIAHEATING SURFACE',\n",
       " 'COOLING CAPACITY',\n",
       " 'HEAT TR. COEFF.',\n",
       " 'Water',\n",
       " 'Water',\n",
       " 'Turku FINDATE, PLACE',\n",
       " '12']"
      ]
     },
     "execution_count": 27,
     "metadata": {},
     "output_type": "execute_result"
    }
   ],
   "source": [
    "# Define a function to parse the text\n",
    "def parse_text(text):\n",
    "    # Split the text into lines\n",
    "    lines = text.split('\\n')\n",
    "    # Remove leading and trailing spaces from each line\n",
    "    lines = [line.strip() for line in lines]\n",
    "    # Remove empty lines\n",
    "    lines = [line for line in lines if line]\n",
    "    return lines\n",
    "\n",
    "# Parse the text\n",
    "lines = parse_text(text)\n",
    "\n",
    "# Display the lines\n",
    "lines"
   ]
  },
  {
   "cell_type": "code",
   "execution_count": 28,
   "metadata": {},
   "outputs": [
    {
     "name": "stdout",
     "output_type": "stream",
     "text": [
      "  Heat Capacity Inlet Temp Outlet Temp Flow Rate Liquid Vol\n",
      "0   4190 J/kg/K      68 °C       89 °C   46 kg/s    400 dm3\n",
      "1   4190 J/kg/K      91 °C       74 °C   56 kg/s    400 dm3\n",
      "  Heat Capacity Inlet Temp Outlet Temp Flow Rate Liquid Vol\n",
      "0   4190 J/kg/K      68 °C       89 °C   46 kg/s    400 dm3\n"
     ]
    }
   ],
   "source": [
    "# Define a function to parse the text\n",
    "def parse_text_to_df(text):\n",
    "    # Example of parsing logic - this needs to be customized based on your PDF's format\n",
    "    # Extracting each line and assuming each line is a separate record\n",
    "    lines = text.split('\\n')\n",
    "\n",
    "    # Defining a list to hold parsed data\n",
    "    data = []\n",
    "\n",
    "    # Parsing each line\n",
    "    for line in lines:\n",
    "        # Use regular expressions or string methods to extract useful information\n",
    "        # Adjust the logic according to your PDF's format\n",
    "        match = re.match(r'(\\d+ J/kg/K) (\\d+ °C) (\\d+ °C) (\\d+ kg/s) (\\d+ dm3)', line)\n",
    "        if match:\n",
    "            data.append(match.groups())\n",
    "\n",
    "    # Convert the list of tuples into a DataFrame\n",
    "    df = pd.DataFrame(data, columns=['SP. Heat Capacity', 'Inlet Temp', 'Outlet Temp', 'Flow Rate', 'Liquid Vol'])\n",
    "    \n",
    "    return df\n",
    "\n",
    "# Parse the text and create a dataframe\n",
    "df = parse_text_to_df(text)\n",
    "\n",
    "# Display the dataframe\n",
    "print(df)\n",
    "\n",
    "# Example of searching in the dataframe\n",
    "# Let's say you want to find records where the inlet temperature is '68 °C'\n",
    "search_result = df[df['Inlet Temp'] == '68 °C']\n",
    "print(search_result)\n"
   ]
  },
  {
   "cell_type": "code",
   "execution_count": 29,
   "metadata": {},
   "outputs": [
    {
     "name": "stdout",
     "output_type": "stream",
     "text": [
      "Empty DataFrame\n",
      "Columns: []\n",
      "Index: []\n"
     ]
    }
   ],
   "source": [
    "# Define a function to parse the text and return a DataFrame\n",
    "def parse_text_to_df(text):\n",
    "    # Split the text into lines\n",
    "    lines = text.split('\\n')\n",
    "\n",
    "    # Define the labels\n",
    "    labels = [\n",
    "        \"WEIGHT WITH WATER\", \"RISK FACTOR\", \"MODEL\", \n",
    "        \"MIN TEMPERATURE\", \"MAX TEMPERATURE\", \"DESIGN PRESSURE\",\n",
    "        \"NET WEIGHT\", \"TEST PRESSURE\", \"REMARKS\"\n",
    "    ]\n",
    "\n",
    "    # Dictionary to hold the data\n",
    "    data = {}\n",
    "\n",
    "    # Variable to keep track of the current label\n",
    "    current_label = None\n",
    "\n",
    "    # Iterate through each line\n",
    "    for line in lines:\n",
    "        line = line.strip()\n",
    "        if line in labels:\n",
    "            # If the line is a label, update the current label and initialize the list in the dictionary\n",
    "            current_label = line\n",
    "            data[current_label] = []\n",
    "        elif current_label:\n",
    "            # If the line is not a label, append the value to the list under the current label\n",
    "            data[current_label].append(line)\n",
    "\n",
    "    # Create a DataFrame from the dictionary\n",
    "    df = pd.DataFrame(dict([(k,pd.Series(v)) for k,v in data.items() ]))\n",
    "\n",
    "    return df\n",
    "\n",
    "# Parse the text and create the dataframe\n",
    "df = parse_text_to_df(text)\n",
    "\n",
    "# Display the dataframe\n",
    "print(df)"
   ]
  },
  {
   "cell_type": "code",
   "execution_count": 57,
   "metadata": {},
   "outputs": [],
   "source": [
    "import pdfquery"
   ]
  },
  {
   "cell_type": "code",
   "execution_count": 23,
   "metadata": {},
   "outputs": [
    {
     "data": {
      "text/plain": [
       "<pdfquery.pdfquery.PDFQuery at 0x126fecdd0>"
      ]
     },
     "execution_count": 23,
     "metadata": {},
     "output_type": "execute_result"
    }
   ],
   "source": [
    "#read the PDF\n",
    "pdf = pdfquery.PDFQuery('he-specification.pdf')\n",
    "pdf.load()\n",
    "\n",
    "# Search for specific elements in the PDF\n",
    "element = pdf.pq('LTTextLineHorizontal')\n",
    "\n",
    "# Extract the text content of the element\n",
    "text = element.text()\n",
    "\n",
    "print(text)\n",
    "\n",
    "#convert the pdf to XML\n",
    "pdf.tree.write('customers.xml', pretty_print = True)\n",
    "pdf"
   ]
  },
  {
   "cell_type": "code",
   "execution_count": 32,
   "metadata": {},
   "outputs": [
    {
     "data": {
      "text/plain": [
       "['SP. HEAT CAPACITY INLET TEMP. OUTLET TEMP. FLOW RATE. LIQUID VOL.',\n",
       " '4190 J/kg/K 68 °C 89 °C 46 kg/s 400 dm3',\n",
       " '4190 J/kg/K 91 °C 74 °C 56 kg/s 400 dm3Heat-Exchanger Specification',\n",
       " 'SUPPLIER REF. ITEM NO.',\n",
       " 'CUSTOMER NAMEWEIGHT WITH WATER:',\n",
       " '4 HE-SWHE Company 1',\n",
       " 'NOVIA RDI',\n",
       " 'RISK FACTOR MODELMIN TEMPERATURE:MAX TEMPERATURE:DESIGN PRESSURE:',\n",
       " '0 °C 130 ° C20 bar',\n",
       " '5800 kg5000 kg0 °C 130 ° C20 bar',\n",
       " 'NET WEIGHT:TEST PRESSURE:REMARKS',\n",
       " '25 barSIDE 1',\n",
       " '25 barSIDE 2',\n",
       " 'SIDE380 m2',\n",
       " '4200 kW',\n",
       " '2354 W/m2/K',\n",
       " 'ALL DIMENSIONS ARE IN MILLIMETERS',\n",
       " 'MEDIAHEATING SURFACE',\n",
       " 'COOLING CAPACITY',\n",
       " 'HEAT TR. COEFF.',\n",
       " 'Water',\n",
       " 'Water',\n",
       " 'Turku FINDATE, PLACE',\n",
       " '12']"
      ]
     },
     "execution_count": 32,
     "metadata": {},
     "output_type": "execute_result"
    }
   ],
   "source": [
    "lines"
   ]
  },
  {
   "cell_type": "markdown",
   "metadata": {},
   "source": [
    "# Implementing the structuring of data from the provided text"
   ]
  },
  {
   "cell_type": "code",
   "execution_count": 55,
   "metadata": {},
   "outputs": [],
   "source": [
    "import pandas as pd\n",
    "# Structuring data into tables\n",
    "\n",
    "# Table 1 - Supplier Information\n",
    "supplier_info = {\n",
    "    \"SUPPLIER\": \"HE Company\",\n",
    "    \"REF.\": \"\",\n",
    "    \"ITEM NO.\": \"1\",\n",
    "    \"CUSTOMER NAME\": \"NOVIA RDI\",\n",
    "    \"RISK FACTOR\": \"4\",\n",
    "    \"MODEL\": \"HE-SW\",\n",
    "    \"DATE\": \"\",\n",
    "    \"PLACE\": \"Turku\"\n",
    "}\n",
    "\n",
    "# Table 2 - Side Specifications\n",
    "side_specs = [\n",
    "    {\n",
    "        \"SIDE\": \"1\",\n",
    "        \"MEDIA\": \"WATER\",\n",
    "        \"SP. HEAT CAPASITY\": \"4190 J/kg/K\",\n",
    "        \"INLET TEMP.\": \"68 °C\",\n",
    "        \"OUTLET TEMP.\": \"89 °C\",\n",
    "        \"FLOW RATE\": \"46 kg/s\",\n",
    "        \"LIQUID VOL.\": \"400 dm3\"\n",
    "    },\n",
    "    {\n",
    "        \"SIDE\": \"2\",\n",
    "        \"MEDIA\": \"WATER\",\n",
    "        \"SP. HEAT CAPASITY\": \"4190 J/kg/K\",\n",
    "        \"INLET TEMP.\": \"91 °C\",\n",
    "        \"OUTLET TEMP.\": \"74 °C\",\n",
    "        \"FLOW RATE\": \"56 kg/s\",\n",
    "        \"LIQUID VOL.\": \"400 dm3\"\n",
    "    }\n",
    "]\n",
    "\n",
    "# Table 3 - Additional Remarks\n",
    "additional_remarks = {\n",
    "    \"SIDE\": [\"1\", \"2\"],\n",
    "    \"TEST PRESSURE\": [\"25 bar\", \"25 bar\"],\n",
    "    \"DESIGN PRESSURE\": [\"20 bar\", \"20 bar\"],\n",
    "    \"MAX TEMPERATURE\": [\"130 °C\", \"130 °C\"],\n",
    "    \"MIN TEMPERATURE\": [\"0 °C\", \"0 °C\"],\n",
    "    \"NET WEIGHT\": [\"5000 kg\", \"\"],\n",
    "    \"WEIGHT WITH WATER\": [\"5800 kg\", \"\"],\n",
    "    \"HEATING SURFACE\": [\"380 m2\", \"\"],\n",
    "    \"COOLING CAPACITY\": [\"4200 kW\", \"\"],\n",
    "    \"HEAT TR. COEFF\": [\"2354 W/m2/K\", \"\"]\n",
    "}\n",
    "\n",
    "# Convert to pandas DataFrame for better visualization\n",
    "df_supplier_info = pd.DataFrame([supplier_info])\n",
    "df_side_specs = pd.DataFrame(side_specs)\n",
    "df_additional_remarks = pd.DataFrame(additional_remarks)\n"
   ]
  },
  {
   "cell_type": "code",
   "execution_count": 56,
   "metadata": {},
   "outputs": [
    {
     "data": {
      "text/html": [
       "<div>\n",
       "<style scoped>\n",
       "    .dataframe tbody tr th:only-of-type {\n",
       "        vertical-align: middle;\n",
       "    }\n",
       "\n",
       "    .dataframe tbody tr th {\n",
       "        vertical-align: top;\n",
       "    }\n",
       "\n",
       "    .dataframe thead th {\n",
       "        text-align: right;\n",
       "    }\n",
       "</style>\n",
       "<table border=\"1\" class=\"dataframe\">\n",
       "  <thead>\n",
       "    <tr style=\"text-align: right;\">\n",
       "      <th></th>\n",
       "      <th>SUPPLIER</th>\n",
       "      <th>REF.</th>\n",
       "      <th>ITEM NO.</th>\n",
       "      <th>CUSTOMER NAME</th>\n",
       "      <th>RISK FACTOR</th>\n",
       "      <th>MODEL</th>\n",
       "      <th>DATE</th>\n",
       "      <th>PLACE</th>\n",
       "    </tr>\n",
       "  </thead>\n",
       "  <tbody>\n",
       "    <tr>\n",
       "      <th>0</th>\n",
       "      <td>HE Company</td>\n",
       "      <td></td>\n",
       "      <td>1</td>\n",
       "      <td>NOVIA RDI</td>\n",
       "      <td>4</td>\n",
       "      <td>HE-SW</td>\n",
       "      <td></td>\n",
       "      <td>Turku</td>\n",
       "    </tr>\n",
       "  </tbody>\n",
       "</table>\n",
       "</div>"
      ],
      "text/plain": [
       "     SUPPLIER REF. ITEM NO. CUSTOMER NAME RISK FACTOR  MODEL DATE  PLACE\n",
       "0  HE Company             1     NOVIA RDI           4  HE-SW       Turku"
      ]
     },
     "execution_count": 56,
     "metadata": {},
     "output_type": "execute_result"
    }
   ],
   "source": [
    "df_supplier_info"
   ]
  },
  {
   "cell_type": "code",
   "execution_count": 40,
   "metadata": {},
   "outputs": [
    {
     "data": {
      "text/html": [
       "<div>\n",
       "<style scoped>\n",
       "    .dataframe tbody tr th:only-of-type {\n",
       "        vertical-align: middle;\n",
       "    }\n",
       "\n",
       "    .dataframe tbody tr th {\n",
       "        vertical-align: top;\n",
       "    }\n",
       "\n",
       "    .dataframe thead th {\n",
       "        text-align: right;\n",
       "    }\n",
       "</style>\n",
       "<table border=\"1\" class=\"dataframe\">\n",
       "  <thead>\n",
       "    <tr style=\"text-align: right;\">\n",
       "      <th></th>\n",
       "      <th>SIDE</th>\n",
       "      <th>MEDIA</th>\n",
       "      <th>SP. HEAT CAPASITY</th>\n",
       "      <th>INLET TEMP.</th>\n",
       "      <th>OUTLET TEMP.</th>\n",
       "      <th>FLOW RATE</th>\n",
       "      <th>LIQUID VOL.</th>\n",
       "    </tr>\n",
       "  </thead>\n",
       "  <tbody>\n",
       "    <tr>\n",
       "      <th>0</th>\n",
       "      <td>1</td>\n",
       "      <td>WATER</td>\n",
       "      <td>4190 J/kg/K</td>\n",
       "      <td>68 °C</td>\n",
       "      <td>89 °C</td>\n",
       "      <td>46 kg/s</td>\n",
       "      <td>400 dm3</td>\n",
       "    </tr>\n",
       "    <tr>\n",
       "      <th>1</th>\n",
       "      <td>2</td>\n",
       "      <td>WATER</td>\n",
       "      <td>4190 J/kg/K</td>\n",
       "      <td>91 °C</td>\n",
       "      <td>74 °C</td>\n",
       "      <td>56 kg/s</td>\n",
       "      <td>400 dm3</td>\n",
       "    </tr>\n",
       "  </tbody>\n",
       "</table>\n",
       "</div>"
      ],
      "text/plain": [
       "  SIDE  MEDIA SP. HEAT CAPASITY INLET TEMP. OUTLET TEMP. FLOW RATE LIQUID VOL.\n",
       "0    1  WATER       4190 J/kg/K       68 °C        89 °C   46 kg/s     400 dm3\n",
       "1    2  WATER       4190 J/kg/K       91 °C        74 °C   56 kg/s     400 dm3"
      ]
     },
     "execution_count": 40,
     "metadata": {},
     "output_type": "execute_result"
    }
   ],
   "source": [
    "df_side_specs"
   ]
  },
  {
   "cell_type": "code",
   "execution_count": 41,
   "metadata": {},
   "outputs": [
    {
     "data": {
      "text/html": [
       "<div>\n",
       "<style scoped>\n",
       "    .dataframe tbody tr th:only-of-type {\n",
       "        vertical-align: middle;\n",
       "    }\n",
       "\n",
       "    .dataframe tbody tr th {\n",
       "        vertical-align: top;\n",
       "    }\n",
       "\n",
       "    .dataframe thead th {\n",
       "        text-align: right;\n",
       "    }\n",
       "</style>\n",
       "<table border=\"1\" class=\"dataframe\">\n",
       "  <thead>\n",
       "    <tr style=\"text-align: right;\">\n",
       "      <th></th>\n",
       "      <th>SIDE</th>\n",
       "      <th>TEST PRESSURE</th>\n",
       "      <th>DESIGN PRESSURE</th>\n",
       "      <th>MAX TEMPERATURE</th>\n",
       "      <th>MIN TEMPERATURE</th>\n",
       "      <th>NET WEIGHT</th>\n",
       "      <th>WEIGHT WITH WATER</th>\n",
       "      <th>HEATING SURFACE</th>\n",
       "      <th>COOLING CAPACITY</th>\n",
       "      <th>HEAT TR. COEFF</th>\n",
       "    </tr>\n",
       "  </thead>\n",
       "  <tbody>\n",
       "    <tr>\n",
       "      <th>0</th>\n",
       "      <td>1</td>\n",
       "      <td>25 bar</td>\n",
       "      <td>20 bar</td>\n",
       "      <td>130 °C</td>\n",
       "      <td>0 °C</td>\n",
       "      <td>5000 kg</td>\n",
       "      <td>5800 kg</td>\n",
       "      <td>380 m2</td>\n",
       "      <td>4200 kW</td>\n",
       "      <td>2354 W/m2/K</td>\n",
       "    </tr>\n",
       "    <tr>\n",
       "      <th>1</th>\n",
       "      <td>2</td>\n",
       "      <td>25 bar</td>\n",
       "      <td>20 bar</td>\n",
       "      <td>130 °C</td>\n",
       "      <td>0 °C</td>\n",
       "      <td></td>\n",
       "      <td></td>\n",
       "      <td></td>\n",
       "      <td></td>\n",
       "      <td></td>\n",
       "    </tr>\n",
       "  </tbody>\n",
       "</table>\n",
       "</div>"
      ],
      "text/plain": [
       "  SIDE TEST PRESSURE DESIGN PRESSURE MAX TEMPERATURE MIN TEMPERATURE  \\\n",
       "0    1        25 bar          20 bar          130 °C            0 °C   \n",
       "1    2        25 bar          20 bar          130 °C            0 °C   \n",
       "\n",
       "  NET WEIGHT WEIGHT WITH WATER HEATING SURFACE COOLING CAPACITY HEAT TR. COEFF  \n",
       "0    5000 kg           5800 kg          380 m2          4200 kW    2354 W/m2/K  \n",
       "1                                                                               "
      ]
     },
     "execution_count": 41,
     "metadata": {},
     "output_type": "execute_result"
    }
   ],
   "source": [
    "df_additional_remarks"
   ]
  },
  {
   "cell_type": "code",
   "execution_count": 47,
   "metadata": {},
   "outputs": [],
   "source": [
    "import fitz # PyMuPDF\n",
    "import PIL.Image as Image # Pillow\n",
    "import io"
   ]
  },
  {
   "cell_type": "code",
   "execution_count": 51,
   "metadata": {},
   "outputs": [
    {
     "name": "stdout",
     "output_type": "stream",
     "text": [
      "Page 1:\n",
      "Image 1: 199 x 286\n",
      "Image 2: 300 x 364\n"
     ]
    }
   ],
   "source": [
    "file = \"he-specification.pdf\"\n",
    "doc = fitz.open(file)\n",
    "\n",
    "# Iterate through each page in the PDF\n",
    "for page in doc:\n",
    "    # Get the page number\n",
    "    page_number = page.number + 1\n",
    "    print(f\"Page {page_number}:\")\n",
    "    \n",
    "    # Get the image list from the page\n",
    "    image_list = page.get_images()\n",
    "    \n",
    "    # If the page does not contain any images, continue\n",
    "    if not image_list:\n",
    "        print(\"No images found.\")\n",
    "        continue\n",
    "    \n",
    "    # Iterate through each image in the image list\n",
    "    for image_index, img in enumerate(page.get_images(), start=1):\n",
    "        # Get the XREF of the image\n",
    "        xref = img[0]\n",
    "        \n",
    "        # Extract the image bytes\n",
    "        base_image = doc.extract_image(xref)\n",
    "        image_bytes = base_image[\"image\"]\n",
    "        \n",
    "        # Get the image extension\n",
    "        image_ext = base_image[\"ext\"]\n",
    "        \n",
    "        # Load the image to Pillow\n",
    "        image = Image.open(io.BytesIO(image_bytes))\n",
    "        \n",
    "        # Save the image\n",
    "        image.save(open(f\"image{page_number}_{image_index}.{image_ext}\", \"wb\"))\n",
    "        \n",
    "        # Print the image dimensions\n",
    "        print(f\"Image {image_index}: {image.size[0]} x {image.size[1]}\")"
   ]
  },
  {
   "cell_type": "code",
   "execution_count": 52,
   "metadata": {},
   "outputs": [
    {
     "name": "stderr",
     "output_type": "stream",
     "text": [
      "Error importing jpype dependencies. Fallback to subprocess.\n",
      "No module named 'jpype'\n"
     ]
    },
    {
     "data": {
      "text/plain": [
       "[  Unnamed: 0 Unnamed: 1         Unnamed: 2   Unnamed: 3    Unnamed: 4  \\\n",
       " 0        NaN        NaN                NaN          NaN           NaN   \n",
       " 1        NaN        NaN                NaN          NaN           NaN   \n",
       " 2        NaN        NaN                NaN          NaN           NaN   \n",
       " 3        NaN        NaN                NaN          NaN           NaN   \n",
       " 4       SIDE      MEDIA  SP. HEAT CAPACITY  INLET TEMP.  OUTLET TEMP.   \n",
       " 5          1      Water        4190 J/kg/K        68 °C         89 °C   \n",
       " 6          2      Water        4190 J/kg/K        91 °C         74 °C   \n",
       " \n",
       "   ALL DIMENSIONS ARE IN MILLIMETERS   Unnamed: 5  Unnamed: 6  \n",
       " 0                               NaN          NaN         NaN  \n",
       " 1                               NaN          NaN         NaN  \n",
       " 2                               NaN          NaN         NaN  \n",
       " 3                               NaN          NaN         NaN  \n",
       " 4                        FLOW RATE.  LIQUID VOL.         NaN  \n",
       " 5                           46 kg/s      400 dm3         NaN  \n",
       " 6                           56 kg/s      400 dm3         NaN  ]"
      ]
     },
     "execution_count": 52,
     "metadata": {},
     "output_type": "execute_result"
    }
   ],
   "source": [
    "import tabula # tabula-py\n",
    "\n",
    "# Read the PDF\n",
    "df = tabula.read_pdf(\"he-specification.pdf\", pages='all')\n",
    "df"
   ]
  },
  {
   "cell_type": "code",
   "execution_count": null,
   "metadata": {},
   "outputs": [],
   "source": []
  }
 ],
 "metadata": {
  "kernelspec": {
   "display_name": ".venv",
   "language": "python",
   "name": "python3"
  },
  "language_info": {
   "codemirror_mode": {
    "name": "ipython",
    "version": 3
   },
   "file_extension": ".py",
   "mimetype": "text/x-python",
   "name": "python",
   "nbconvert_exporter": "python",
   "pygments_lexer": "ipython3",
   "version": "3.11.6"
  }
 },
 "nbformat": 4,
 "nbformat_minor": 2
}
